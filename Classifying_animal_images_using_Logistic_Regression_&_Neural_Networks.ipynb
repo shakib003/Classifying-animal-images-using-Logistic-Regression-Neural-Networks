{
  "nbformat": 4,
  "nbformat_minor": 0,
  "metadata": {
    "colab": {
      "provenance": [],
      "gpuType": "T4"
    },
    "kernelspec": {
      "name": "python3",
      "display_name": "Python 3"
    },
    "language_info": {
      "name": "python"
    },
    "accelerator": "GPU"
  },
  "cells": [
    {
      "cell_type": "code",
      "execution_count": null,
      "metadata": {
        "id": "P9XNBTCfh52G"
      },
      "outputs": [],
      "source": [
        "import numpy as np\n",
        "from sklearn.model_selection import train_test_split\n",
        "from sklearn.linear_model import LogisticRegression\n",
        "from sklearn import preprocessing\n",
        "from tensorflow.keras.preprocessing.image import load_img, img_to_array\n",
        "from pathlib import Path\n",
        "from sklearn.metrics import confusion_matrix, accuracy_score, precision_score, recall_score, f1_score, classification_report"
      ]
    },
    {
      "cell_type": "code",
      "source": [
        "from google.colab import drive\n",
        "drive.mount('/content/drive')"
      ],
      "metadata": {
        "colab": {
          "base_uri": "https://localhost:8080/"
        },
        "id": "yr79wvQ9h9gX",
        "outputId": "0d4f3b1a-286c-4451-9b86-8a4809122394"
      },
      "execution_count": null,
      "outputs": [
        {
          "output_type": "stream",
          "name": "stdout",
          "text": [
            "Mounted at /content/drive\n"
          ]
        }
      ]
    },
    {
      "cell_type": "code",
      "source": [
        "train_path = Path(\"/content/drive/MyDrive/1. 428_project/Group_1/Group_1/train\")\n",
        "test_path = Path(\"/content/drive/MyDrive/1. 428_project/Group_1/Group_1/test\")"
      ],
      "metadata": {
        "id": "sdt1lH2zh_Rb"
      },
      "execution_count": null,
      "outputs": []
    },
    {
      "cell_type": "code",
      "source": [
        "def load_images(folder_path):\n",
        "    images = [] # x\n",
        "    labels = [] # y\n",
        "    class_dict = {}\n",
        "\n",
        "    for sub_folder_path in folder_path.iterdir():\n",
        "        if sub_folder_path.is_dir():\n",
        "            class_name = sub_folder_path.name\n",
        "            class_images = []\n",
        "\n",
        "            for img_path in sub_folder_path.iterdir():\n",
        "                image = load_img(img_path)\n",
        "                image_array = img_to_array(image) # ing to array\n",
        "\n",
        "                images.append(image_array)\n",
        "                labels.append(class_name)\n",
        "                class_images.append(image_array)\n",
        "\n",
        "            class_dict[class_name] = np.array(class_images)\n",
        "\n",
        "    unique_labels = np.unique(labels)\n",
        "\n",
        "    return [[np.array(images), np.array(labels)], class_dict, unique_labels]\n"
      ],
      "metadata": {
        "id": "kclDPA2gi_qm"
      },
      "execution_count": null,
      "outputs": []
    },
    {
      "cell_type": "markdown",
      "source": [
        "# **1.1) What is the size of your dataset? Is there a separate batch for train, test, and validation, or do you need to do it manually?**"
      ],
      "metadata": {
        "id": "15eMGgAHtC_M"
      }
    },
    {
      "cell_type": "code",
      "source": [
        "# loading the train and test data as numpy array and giving label to the train data\n",
        "\n",
        "X_train_org, Y_train_org = load_images(train_path)[0]\n",
        "X_test, Y_test = load_images(test_path)[0]\n"
      ],
      "metadata": {
        "id": "IiSerHQ5maXg"
      },
      "execution_count": null,
      "outputs": []
    },
    {
      "cell_type": "code",
      "source": [
        "X_train_org.shape,  Y_train_org.shape"
      ],
      "metadata": {
        "colab": {
          "base_uri": "https://localhost:8080/"
        },
        "id": "o2D4ExOSaV5K",
        "outputId": "b3d232dc-e8b6-4174-d832-a64302d753de"
      },
      "execution_count": null,
      "outputs": [
        {
          "output_type": "execute_result",
          "data": {
            "text/plain": [
              "((2155, 64, 64, 3), (2155,))"
            ]
          },
          "metadata": {},
          "execution_count": 6
        }
      ]
    },
    {
      "cell_type": "code",
      "source": [
        "X_test.shape, Y_test.shape"
      ],
      "metadata": {
        "colab": {
          "base_uri": "https://localhost:8080/"
        },
        "id": "qAEPf4akac4K",
        "outputId": "2f5310dc-645e-4458-ad2f-cc16ad44d846"
      },
      "execution_count": null,
      "outputs": [
        {
          "output_type": "execute_result",
          "data": {
            "text/plain": [
              "((255, 64, 64, 3), (255,))"
            ]
          },
          "metadata": {},
          "execution_count": 7
        }
      ]
    },
    {
      "cell_type": "code",
      "source": [
        "print(f\"There are {X_train_org.shape[0] + X_test.shape[0]} samples in the Dataset.\")"
      ],
      "metadata": {
        "colab": {
          "base_uri": "https://localhost:8080/"
        },
        "id": "0yNpjpOsC8Bb",
        "outputId": "83a20329-7a64-47a8-82e8-2e83cc9f1352"
      },
      "execution_count": null,
      "outputs": [
        {
          "output_type": "stream",
          "name": "stdout",
          "text": [
            "There are 2410 samples in the Dataset.\n"
          ]
        }
      ]
    },
    {
      "cell_type": "markdown",
      "source": [
        "* There is seperate branch for train and test data but there is no vaidation data. So, we have to make the validation data manually."
      ],
      "metadata": {
        "id": "YkgaX7vdyl8a"
      }
    },
    {
      "cell_type": "markdown",
      "source": [
        "#  **1.2)What are the different classes in your dataset?**"
      ],
      "metadata": {
        "id": "V5GJEkOrrNkn"
      }
    },
    {
      "cell_type": "code",
      "source": [
        "labels = load_images(train_path)[2]\n",
        "labels"
      ],
      "metadata": {
        "colab": {
          "base_uri": "https://localhost:8080/"
        },
        "id": "wv2oo8uGQM-e",
        "outputId": "9177c986-69ae-4256-f67c-fcfcacdca16d"
      },
      "execution_count": null,
      "outputs": [
        {
          "output_type": "execute_result",
          "data": {
            "text/plain": [
              "array(['bear', 'boa-constrictor', 'bullfrog', 'golden-retriever',\n",
              "       'goldfish'], dtype='<U16')"
            ]
          },
          "metadata": {},
          "execution_count": 9
        }
      ]
    },
    {
      "cell_type": "markdown",
      "source": [
        "# **2. What is the distribution of your dataset? the number of samples per class? Show it using a plot. Is the distribution balanced or unbalanced?**"
      ],
      "metadata": {
        "id": "vznKjTDby5e6"
      }
    },
    {
      "cell_type": "markdown",
      "source": [
        "## Ploting the number of samples per class:"
      ],
      "metadata": {
        "id": "7qoZiNbCzFuC"
      }
    },
    {
      "cell_type": "code",
      "source": [
        "for key, values in load_images(train_path)[1].items():\n",
        "    num_values = len(values)\n",
        "    print(f\"'{key}' class has {num_values} images.\")"
      ],
      "metadata": {
        "colab": {
          "base_uri": "https://localhost:8080/"
        },
        "id": "OP_0v7fSbccK",
        "outputId": "3402b0dc-abb5-4a80-92e9-e3812f50f721"
      },
      "execution_count": null,
      "outputs": [
        {
          "output_type": "stream",
          "name": "stdout",
          "text": [
            "'golden-retriever' class has 500 images.\n",
            "'bullfrog' class has 250 images.\n",
            "'goldfish' class has 500 images.\n",
            "'boa-constrictor' class has 400 images.\n",
            "'bear' class has 505 images.\n"
          ]
        }
      ]
    },
    {
      "cell_type": "code",
      "source": [
        "import matplotlib.pyplot as plt\n",
        "\n",
        "def plot_samples_per_class(class_dict):\n",
        "    class_names = list(class_dict.keys())\n",
        "    num_samples = [len(class_dict[class_name]) for class_name in class_names]\n",
        "\n",
        "    plt.figure(figsize=(10, 6))\n",
        "    plt.bar(class_names, num_samples, color='skyblue')\n",
        "    plt.xlabel('Class Name')\n",
        "    plt.ylabel('Number of Samples')\n",
        "    plt.title('Number of Samples per Class')\n",
        "    plt.show()\n",
        "\n",
        "plot_samples_per_class(load_images(train_path)[1])\n"
      ],
      "metadata": {
        "colab": {
          "base_uri": "https://localhost:8080/",
          "height": 564
        },
        "id": "R8FDgGdZzR4E",
        "outputId": "090f77b2-d3e1-47ec-f4ee-9698250d0c25"
      },
      "execution_count": null,
      "outputs": [
        {
          "output_type": "display_data",
          "data": {
            "text/plain": [
              "<Figure size 1000x600 with 1 Axes>"
            ],
            "image/png": "[encoded data removed]"
          },
          "metadata": {}
        }
      ]
    },
    {
      "cell_type": "markdown",
      "source": [
        "# 3. Which technique are you going to use to tackle your unbalanced dataset and why?"
      ],
      "metadata": {
        "id": "oKDPZZqx0TFa"
      }
    },
    {
      "cell_type": "markdown",
      "source": [
        "**Data Augmentation:**\n",
        "   - Generate additional training samples by applying transformations (rotation, scaling, flipping, etc.) to existing samples. This is particularly useful when you have limited data for some classes."
      ],
      "metadata": {
        "id": "IDbVmGTi4GQP"
      }
    },
    {
      "cell_type": "markdown",
      "source": [
        "# Part 4 & 5"
      ],
      "metadata": {
        "id": "LXPd8Chg0c7q"
      }
    },
    {
      "cell_type": "markdown",
      "source": [
        "Evaluation function"
      ],
      "metadata": {
        "id": "uj2Abbco0uGi"
      }
    },
    {
      "cell_type": "code",
      "source": [
        "def evaluate_model(y_true, y_pred, labels):\n",
        "    # Calculating accuracy\n",
        "    accuracy = accuracy_score(y_true, y_pred)\n",
        "\n",
        "    # Computing the confusion matrix\n",
        "    cm = confusion_matrix(y_true, y_pred)\n",
        "\n",
        "    # Initializing arrays to hold the per-class metrics\n",
        "    sensitivities = []\n",
        "    specificities = []\n",
        "    ppvs = []\n",
        "    npvs = []\n",
        "\n",
        "    # Calculate metrics for each class\n",
        "    for class_index in range(len(labels)):\n",
        "        tp = cm[class_index, class_index]\n",
        "        fn = np.sum(cm[class_index, :]) - tp\n",
        "        fp = np.sum(cm[:, class_index]) - tp\n",
        "        tn = np.sum(cm) - (fp + fn + tp)\n",
        "\n",
        "        sensitivity = tp / (tp + fn) if (tp + fn) != 0 else 0\n",
        "        specificity = tn / (tn + fp) if (tn + fp) != 0 else 0\n",
        "        ppv = tp / (tp + fp) if (tp + fp) != 0 else 0\n",
        "        npv = tn / (tn + fn) if (tn + fn) != 0 else 0\n",
        "\n",
        "        sensitivities.append(sensitivity)\n",
        "        specificities.append(specificity)\n",
        "        ppvs.append(ppv)\n",
        "        npvs.append(npv)\n",
        "\n",
        "    # Calculating averages\n",
        "    sensitivity = np.mean(sensitivities)\n",
        "    specificity = np.mean(specificities)\n",
        "    ppv = np.mean(ppvs)\n",
        "    npv = np.mean(npvs)\n",
        "\n",
        "    # Generating classification report\n",
        "    class_report = classification_report(y_true, y_pred, target_names=labels)\n",
        "\n",
        "\n",
        "    return([accuracy, sensitivity, specificity, ppv, npv, cm, class_report])\n"
      ],
      "metadata": {
        "id": "Odji58akdW3D"
      },
      "execution_count": null,
      "outputs": []
    },
    {
      "cell_type": "markdown",
      "source": [
        "## Logistic Regression"
      ],
      "metadata": {
        "id": "B7dgfRvndY6Z"
      }
    },
    {
      "cell_type": "code",
      "source": [
        "# seperating some data from train for validation\n",
        "\n",
        "X_train, X_validation, Y_train, Y_validation = train_test_split(X_train_org, Y_train_org, test_size=0.2, random_state=428)"
      ],
      "metadata": {
        "id": "S8COkbEPmdmw"
      },
      "execution_count": null,
      "outputs": []
    },
    {
      "cell_type": "code",
      "source": [
        "X_train.shape, X_validation.shape"
      ],
      "metadata": {
        "colab": {
          "base_uri": "https://localhost:8080/"
        },
        "id": "FjcQsIijCuB9",
        "outputId": "e8ebf893-625a-4e46-fb3b-8348065e8740"
      },
      "execution_count": null,
      "outputs": [
        {
          "output_type": "execute_result",
          "data": {
            "text/plain": [
              "((1724, 64, 64, 3), (431, 64, 64, 3))"
            ]
          },
          "metadata": {},
          "execution_count": 14
        }
      ]
    },
    {
      "cell_type": "code",
      "source": [
        "# flattening the each data\n",
        "\n",
        "X_train_org_flatten = X_train_org.reshape(X_train_org.shape[0], -1)\n",
        "X_train_org_flatten = preprocessing.minmax_scale(X_train_org_flatten)\n",
        "\n",
        "X_train_flatten = X_train.reshape(X_train.shape[0], -1)\n",
        "X_train_flatten = preprocessing.minmax_scale(X_train_flatten)\n",
        "\n",
        "X_validation_flatten = X_validation.reshape(X_validation.shape[0], -1)\n",
        "X_validation_flatten = preprocessing.minmax_scale(X_validation_flatten)\n",
        "\n",
        "X_test_flatten = X_test.reshape(X_test.shape[0], -1)\n",
        "X_test_flatten = preprocessing.minmax_scale(X_test_flatten)"
      ],
      "metadata": {
        "id": "uI5ayMOCnfpt"
      },
      "execution_count": null,
      "outputs": []
    },
    {
      "cell_type": "code",
      "source": [
        "X_train.shape, X_train_flatten.shape"
      ],
      "metadata": {
        "colab": {
          "base_uri": "https://localhost:8080/"
        },
        "id": "CP2ghWOMWmwM",
        "outputId": "0cd9365d-03be-4cb3-c1d7-326b9ea92453"
      },
      "execution_count": null,
      "outputs": [
        {
          "output_type": "execute_result",
          "data": {
            "text/plain": [
              "((1724, 64, 64, 3), (1724, 12288))"
            ]
          },
          "metadata": {},
          "execution_count": 16
        }
      ]
    },
    {
      "cell_type": "code",
      "source": [
        "# Training logistic regressing model\n",
        "\n",
        "LR = LogisticRegression(C=1, fit_intercept=True, solver='lbfgs', max_iter=300)\n",
        "LR.fit(X_train_flatten, Y_train)"
      ],
      "metadata": {
        "colab": {
          "base_uri": "https://localhost:8080/",
          "height": 219
        },
        "id": "TqukxI_HnyE9",
        "outputId": "18498e63-9f14-47a8-ec6c-f52780b01e59"
      },
      "execution_count": null,
      "outputs": [
        {
          "output_type": "stream",
          "name": "stderr",
          "text": [
            "/usr/local/lib/python3.10/dist-packages/sklearn/linear_model/_logistic.py:458: ConvergenceWarning: lbfgs failed to converge (status=1):\n",
            "STOP: TOTAL NO. of ITERATIONS REACHED LIMIT.\n",
            "\n",
            "Increase the number of iterations (max_iter) or scale the data as shown in:\n",
            "    https://scikit-learn.org/stable/modules/preprocessing.html\n",
            "Please also refer to the documentation for alternative solver options:\n",
            "    https://scikit-learn.org/stable/modules/linear_model.html#logistic-regression\n",
            "  n_iter_i = _check_optimize_result(\n"
          ]
        },
        {
          "output_type": "execute_result",
          "data": {
            "text/plain": [
              "LogisticRegression(C=1, max_iter=300)"
            ],
            "text/html": [
              "<style>#sk-container-id-1 {color: black;background-color: white;}#sk-container-id-1 pre{padding: 0;}#sk-container-id-1 div.sk-toggleable {background-color: white;}#sk-container-id-1 label.sk-toggleable__label {cursor: pointer;display: block;width: 100%;margin-bottom: 0;padding: 0.3em;box-sizing: border-box;text-align: center;}#sk-container-id-1 label.sk-toggleable__label-arrow:before {content: \"▸\";float: left;margin-right: 0.25em;color: #696969;}#sk-container-id-1 label.sk-toggleable__label-arrow:hover:before {color: black;}#sk-container-id-1 div.sk-estimator:hover label.sk-toggleable__label-arrow:before {color: black;}#sk-container-id-1 div.sk-toggleable__content {max-height: 0;max-width: 0;overflow: hidden;text-align: left;background-color: #f0f8ff;}#sk-container-id-1 div.sk-toggleable__content pre {margin: 0.2em;color: black;border-radius: 0.25em;background-color: #f0f8ff;}#sk-container-id-1 input.sk-toggleable__control:checked~div.sk-toggleable__content {max-height: 200px;max-width: 100%;overflow: auto;}#sk-container-id-1 input.sk-toggleable__control:checked~label.sk-toggleable__label-arrow:before {content: \"▾\";}#sk-container-id-1 div.sk-estimator input.sk-toggleable__control:checked~label.sk-toggleable__label {background-color: #d4ebff;}#sk-container-id-1 div.sk-label input.sk-toggleable__control:checked~label.sk-toggleable__label {background-color: #d4ebff;}#sk-container-id-1 input.sk-hidden--visually {border: 0;clip: rect(1px 1px 1px 1px);clip: rect(1px, 1px, 1px, 1px);height: 1px;margin: -1px;overflow: hidden;padding: 0;position: absolute;width: 1px;}#sk-container-id-1 div.sk-estimator {font-family: monospace;background-color: #f0f8ff;border: 1px dotted black;border-radius: 0.25em;box-sizing: border-box;margin-bottom: 0.5em;}#sk-container-id-1 div.sk-estimator:hover {background-color: #d4ebff;}#sk-container-id-1 div.sk-parallel-item::after {content: \"\";width: 100%;border-bottom: 1px solid gray;flex-grow: 1;}#sk-container-id-1 div.sk-label:hover label.sk-toggleable__label {background-color: #d4ebff;}#sk-container-id-1 div.sk-serial::before {content: \"\";position: absolute;border-left: 1px solid gray;box-sizing: border-box;top: 0;bottom: 0;left: 50%;z-index: 0;}#sk-container-id-1 div.sk-serial {display: flex;flex-direction: column;align-items: center;background-color: white;padding-right: 0.2em;padding-left: 0.2em;position: relative;}#sk-container-id-1 div.sk-item {position: relative;z-index: 1;}#sk-container-id-1 div.sk-parallel {display: flex;align-items: stretch;justify-content: center;background-color: white;position: relative;}#sk-container-id-1 div.sk-item::before, #sk-container-id-1 div.sk-parallel-item::before {content: \"\";position: absolute;border-left: 1px solid gray;box-sizing: border-box;top: 0;bottom: 0;left: 50%;z-index: -1;}#sk-container-id-1 div.sk-parallel-item {display: flex;flex-direction: column;z-index: 1;position: relative;background-color: white;}#sk-container-id-1 div.sk-parallel-item:first-child::after {align-self: flex-end;width: 50%;}#sk-container-id-1 div.sk-parallel-item:last-child::after {align-self: flex-start;width: 50%;}#sk-container-id-1 div.sk-parallel-item:only-child::after {width: 0;}#sk-container-id-1 div.sk-dashed-wrapped {border: 1px dashed gray;margin: 0 0.4em 0.5em 0.4em;box-sizing: border-box;padding-bottom: 0.4em;background-color: white;}#sk-container-id-1 div.sk-label label {font-family: monospace;font-weight: bold;display: inline-block;line-height: 1.2em;}#sk-container-id-1 div.sk-label-container {text-align: center;}#sk-container-id-1 div.sk-container {/* jupyter's `normalize.less` sets `[hidden] { display: none; }` but bootstrap.min.css set `[hidden] { display: none !important; }` so we also need the `!important` here to be able to override the default hidden behavior on the sphinx rendered scikit-learn.org. See: https://github.com/scikit-learn/scikit-learn/issues/21755 */display: inline-block !important;position: relative;}#sk-container-id-1 div.sk-text-repr-fallback {display: none;}</style><div id=\"sk-container-id-1\" class=\"sk-top-container\"><div class=\"sk-text-repr-fallback\"><pre>LogisticRegression(C=1, max_iter=300)</pre><b>In a Jupyter environment, please rerun this cell to show the HTML representation or trust the notebook. <br />On GitHub, the HTML representation is unable to render, please try loading this page with nbviewer.org.</b></div><div class=\"sk-container\" hidden><div class=\"sk-item\"><div class=\"sk-estimator sk-toggleable\"><input class=\"sk-toggleable__control sk-hidden--visually\" id=\"sk-estimator-id-1\" type=\"checkbox\" checked><label for=\"sk-estimator-id-1\" class=\"sk-toggleable__label sk-toggleable__label-arrow\">LogisticRegression</label><div class=\"sk-toggleable__content\"><pre>LogisticRegression(C=1, max_iter=300)</pre></div></div></div></div></div>"
            ]
          },
          "metadata": {},
          "execution_count": 17
        }
      ]
    },
    {
      "cell_type": "code",
      "source": [
        "# Evaluating the model in train set & validation set\n",
        "\n",
        "validation_prediction = LR.predict(X_validation_flatten)\n",
        "validation_accuracy = accuracy_score(Y_validation, validation_prediction)\n",
        "\n",
        "print(f\"Validation Set Accuracy: {validation_accuracy * 100:.2f}%\")"
      ],
      "metadata": {
        "colab": {
          "base_uri": "https://localhost:8080/"
        },
        "id": "kGUIUnPKoBS9",
        "outputId": "ff30221c-ae25-47df-8307-c44887fbf325"
      },
      "execution_count": null,
      "outputs": [
        {
          "output_type": "stream",
          "name": "stdout",
          "text": [
            "Validation Set Accuracy: 50.35%\n"
          ]
        }
      ]
    },
    {
      "cell_type": "code",
      "source": [
        "# Predictions\n",
        "y_pred_train = LR.predict(X_train_flatten)\n",
        "y_pred_test = LR.predict(X_test_flatten)\n",
        "\n",
        "# Evaluating on Train data\n",
        "train_eval_LR = evaluate_model(Y_train, y_pred_train, labels)\n",
        "print(\"## Training Set Metrics:\")\n",
        "print()\n",
        "print(f\"Accuracy: {train_eval_LR[0] * 100:.2f}%\\n\"\n",
        "      f\"Sensitivity: {train_eval_LR[1]}\\n\"\n",
        "      f\"Specificity: {train_eval_LR[2]}\\n\"\n",
        "      f\"PPV: {train_eval_LR[3]}\\n\"\n",
        "      f\"NPV: {train_eval_LR[4]}\\n\"\n",
        "      f\"Confusion Matrix:\\n{train_eval_LR[5]}\\n\"\n",
        "      f\"Classification Report:\\n{train_eval_LR[6]}\")\n",
        "\n",
        "print()\n",
        "print()\n",
        "\n",
        "# Evaluating on Test data\n",
        "test_eval_LR = evaluate_model(Y_test, y_pred_test, labels)\n",
        "print(\"\\n## Test Set Metrics:\")\n",
        "print()\n",
        "print(f\"Accuracy: {test_eval_LR[0] * 100:.2f}%\\n\"\n",
        "      f\"Sensitivity: {test_eval_LR[1]}\\n\"\n",
        "      f\"Specificity: {test_eval_LR[2]}\\n\"\n",
        "      f\"PPV: {test_eval_LR[3]}\\n\"\n",
        "      f\"NPV: {test_eval_LR[4]}\\n\"\n",
        "      f\"Confusion Matrix:\\n{test_eval_LR[5]}\\n\"\n",
        "      f\"Classification Report:\\n{test_eval_LR[6]}\")"
      ],
      "metadata": {
        "colab": {
          "base_uri": "https://localhost:8080/"
        },
        "id": "8w8Ar1KiEGMz",
        "outputId": "a6e26d97-fc1f-48e3-a21c-662f70108142"
      },
      "execution_count": null,
      "outputs": [
        {
          "output_type": "stream",
          "name": "stdout",
          "text": [
            "## Training Set Metrics:\n",
            "\n",
            "Accuracy: 100.00%\n",
            "Sensitivity: 1.0\n",
            "Specificity: 1.0\n",
            "PPV: 1.0\n",
            "NPV: 1.0\n",
            "Confusion Matrix:\n",
            "[[419   0   0   0   0]\n",
            " [  0 324   0   0   0]\n",
            " [  0   0 200   0   0]\n",
            " [  0   0   0 395   0]\n",
            " [  0   0   0   0 386]]\n",
            "Classification Report:\n",
            "                  precision    recall  f1-score   support\n",
            "\n",
            "            bear       1.00      1.00      1.00       419\n",
            " boa-constrictor       1.00      1.00      1.00       324\n",
            "        bullfrog       1.00      1.00      1.00       200\n",
            "golden-retriever       1.00      1.00      1.00       395\n",
            "        goldfish       1.00      1.00      1.00       386\n",
            "\n",
            "        accuracy                           1.00      1724\n",
            "       macro avg       1.00      1.00      1.00      1724\n",
            "    weighted avg       1.00      1.00      1.00      1724\n",
            "\n",
            "\n",
            "\n",
            "\n",
            "## Test Set Metrics:\n",
            "\n",
            "Accuracy: 38.82%\n",
            "Sensitivity: 0.3825454545454545\n",
            "Specificity: 0.84709756097561\n",
            "PPV: 0.3552659717877109\n",
            "NPV: 0.8498072304189443\n",
            "Confusion Matrix:\n",
            "[[27  5  3 12  3]\n",
            " [ 8 11  6 14 11]\n",
            " [15 14  4 14  3]\n",
            " [ 9  6  3 20 12]\n",
            " [ 4  1  4  9 37]]\n",
            "Classification Report:\n",
            "                  precision    recall  f1-score   support\n",
            "\n",
            "            bear       0.43      0.54      0.48        50\n",
            " boa-constrictor       0.30      0.22      0.25        50\n",
            "        bullfrog       0.20      0.08      0.11        50\n",
            "golden-retriever       0.29      0.40      0.34        50\n",
            "        goldfish       0.56      0.67      0.61        55\n",
            "\n",
            "        accuracy                           0.39       255\n",
            "       macro avg       0.36      0.38      0.36       255\n",
            "    weighted avg       0.36      0.39      0.36       255\n",
            "\n"
          ]
        }
      ]
    },
    {
      "cell_type": "markdown",
      "source": [
        "## Neural Networks"
      ],
      "metadata": {
        "id": "wuTPaKR6fVJt"
      }
    },
    {
      "cell_type": "code",
      "source": [
        "import tensorflow as tf\n",
        "from tensorflow.keras.models import Sequential\n",
        "from tensorflow.keras.layers import Input, Dense\n",
        "from tensorflow.keras.utils import to_categorical, plot_model\n",
        "import matplotlib.pyplot as plt"
      ],
      "metadata": {
        "id": "2hQtGtxOfi4r"
      },
      "execution_count": null,
      "outputs": []
    },
    {
      "cell_type": "code",
      "source": [
        "X_train_org.shape"
      ],
      "metadata": {
        "colab": {
          "base_uri": "https://localhost:8080/"
        },
        "id": "Y5DVc3hRMKXt",
        "outputId": "12a81560-3ebb-4aae-f13d-d837ab670396"
      },
      "execution_count": null,
      "outputs": [
        {
          "output_type": "execute_result",
          "data": {
            "text/plain": [
              "(2155, 64, 64, 3)"
            ]
          },
          "metadata": {},
          "execution_count": 21
        }
      ]
    },
    {
      "cell_type": "code",
      "source": [
        "X_train_org_flatten.shape"
      ],
      "metadata": {
        "id": "IWEIblCilzA0",
        "colab": {
          "base_uri": "https://localhost:8080/"
        },
        "outputId": "78eedd43-4e23-472b-888e-86eaff2364a4"
      },
      "execution_count": null,
      "outputs": [
        {
          "output_type": "execute_result",
          "data": {
            "text/plain": [
              "(2155, 12288)"
            ]
          },
          "metadata": {},
          "execution_count": 22
        }
      ]
    },
    {
      "cell_type": "code",
      "source": [
        "number_of_classes = len(labels)\n",
        "number_of_classes"
      ],
      "metadata": {
        "id": "zZYsa6tyrEoM",
        "colab": {
          "base_uri": "https://localhost:8080/"
        },
        "outputId": "d6dd7044-b9c1-4c81-86ff-ac174efb85bc"
      },
      "execution_count": null,
      "outputs": [
        {
          "output_type": "execute_result",
          "data": {
            "text/plain": [
              "5"
            ]
          },
          "metadata": {},
          "execution_count": 23
        }
      ]
    },
    {
      "cell_type": "code",
      "source": [
        "labels"
      ],
      "metadata": {
        "colab": {
          "base_uri": "https://localhost:8080/"
        },
        "id": "K3F_xwum3Zx7",
        "outputId": "fd24b7f1-81a5-4085-befd-adaebbe0f2f9"
      },
      "execution_count": null,
      "outputs": [
        {
          "output_type": "execute_result",
          "data": {
            "text/plain": [
              "array(['bear', 'boa-constrictor', 'bullfrog', 'golden-retriever',\n",
              "       'goldfish'], dtype='<U16')"
            ]
          },
          "metadata": {},
          "execution_count": 24
        }
      ]
    },
    {
      "cell_type": "code",
      "source": [
        "# to be able to encode we must have numarical data\n",
        "\n",
        "labels_dict = {label: idx for idx, label in enumerate(labels)}\n",
        "\n",
        "print(labels_dict)"
      ],
      "metadata": {
        "colab": {
          "base_uri": "https://localhost:8080/"
        },
        "id": "wFty6Qla5I70",
        "outputId": "f85bdbad-531b-4993-e635-181f213f68f5"
      },
      "execution_count": null,
      "outputs": [
        {
          "output_type": "stream",
          "name": "stdout",
          "text": [
            "{'bear': 0, 'boa-constrictor': 1, 'bullfrog': 2, 'golden-retriever': 3, 'goldfish': 4}\n"
          ]
        }
      ]
    },
    {
      "cell_type": "code",
      "source": [
        "def convert_labels_to_numbers(labels, labels_dict):\n",
        "  return [labels_dict[label] for label in labels]"
      ],
      "metadata": {
        "id": "mhVILcCX5gZb"
      },
      "execution_count": null,
      "outputs": []
    },
    {
      "cell_type": "code",
      "source": [
        "Y_train_org_in_numbers = convert_labels_to_numbers(Y_train_org, labels_dict)\n",
        "Y_test_in_numbers = convert_labels_to_numbers(Y_test, labels_dict)\n",
        "Y_validation_in_numbers = convert_labels_to_numbers(Y_validation, labels_dict)\n",
        "\n",
        "print(Y_train_org[-1])\n",
        "print(Y_train_org_in_numbers[-1])\n",
        "\n",
        "# Y_train = original_labels --> ['golden-retriever', 'bear', 'boa-constrictor', 'bullfrog', 'goldfish']\n",
        "# Y_train_in_numbers = numbers --> [0,1,2,3,4]\n",
        "# Y_train_NN = encoded"
      ],
      "metadata": {
        "colab": {
          "base_uri": "https://localhost:8080/"
        },
        "id": "QKG1lg5q5wjU",
        "outputId": "54c55a41-d7cb-46e6-9030-eea577d02049"
      },
      "execution_count": null,
      "outputs": [
        {
          "output_type": "stream",
          "name": "stdout",
          "text": [
            "bear\n",
            "0\n"
          ]
        }
      ]
    },
    {
      "cell_type": "code",
      "source": [
        "Y_train_org"
      ],
      "metadata": {
        "colab": {
          "base_uri": "https://localhost:8080/"
        },
        "id": "ZznwSj5LrZwH",
        "outputId": "f709f0ce-ab9c-46d7-b0ef-4c73e50a7e45"
      },
      "execution_count": null,
      "outputs": [
        {
          "output_type": "execute_result",
          "data": {
            "text/plain": [
              "array(['golden-retriever', 'golden-retriever', 'golden-retriever', ...,\n",
              "       'bear', 'bear', 'bear'], dtype='<U16')"
            ]
          },
          "metadata": {},
          "execution_count": 28
        }
      ]
    },
    {
      "cell_type": "code",
      "source": [
        "#Y_train_org_in_numbers"
      ],
      "metadata": {
        "id": "4S3VUGLbrjsK"
      },
      "execution_count": null,
      "outputs": []
    },
    {
      "cell_type": "code",
      "source": [
        "print(\"shape of Y_train_org =\", Y_train_org.shape)\n",
        "print(\"shape of Y_test =\", Y_test.shape)\n",
        "print()\n",
        "\n",
        "Y_train_org_NN = to_categorical(Y_train_org_in_numbers, num_classes = number_of_classes)\n",
        "Y_test_NN = to_categorical(Y_test_in_numbers, num_classes = number_of_classes)\n",
        "Y_validation_NN = to_categorical(Y_validation_in_numbers, num_classes = number_of_classes)\n",
        "\n",
        "print(\"shape of Y_train_org_NN =\", Y_train_org_NN.shape)\n",
        "print(\"shape of Y_test_NN =\", Y_test_NN.shape)"
      ],
      "metadata": {
        "id": "USvQpackqx7X",
        "colab": {
          "base_uri": "https://localhost:8080/"
        },
        "outputId": "dce15145-671b-4ad3-b9f6-c7c26977006d"
      },
      "execution_count": null,
      "outputs": [
        {
          "output_type": "stream",
          "name": "stdout",
          "text": [
            "shape of Y_train_org = (2155,)\n",
            "shape of Y_test = (255,)\n",
            "\n",
            "shape of Y_train_org_NN = (2155, 5)\n",
            "shape of Y_test_NN = (255, 5)\n"
          ]
        }
      ]
    },
    {
      "cell_type": "code",
      "source": [
        "Y_train_org_NN[:5]"
      ],
      "metadata": {
        "id": "2ePyNukismIk",
        "colab": {
          "base_uri": "https://localhost:8080/"
        },
        "outputId": "e8cb4f1a-1c59-467d-ab81-8ee630340f51"
      },
      "execution_count": null,
      "outputs": [
        {
          "output_type": "execute_result",
          "data": {
            "text/plain": [
              "array([[0., 0., 0., 1., 0.],\n",
              "       [0., 0., 0., 1., 0.],\n",
              "       [0., 0., 0., 1., 0.],\n",
              "       [0., 0., 0., 1., 0.],\n",
              "       [0., 0., 0., 1., 0.]], dtype=float32)"
            ]
          },
          "metadata": {},
          "execution_count": 31
        }
      ]
    },
    {
      "cell_type": "code",
      "source": [
        "# Model Building\n",
        "\n",
        "NN = Sequential()\n",
        "NN.add( Input(shape = (12288,)) ) # input layer\n",
        "NN.add( Dense(4000, activation='sigmoid') ) #hidden layer 1\n",
        "NN.add( Dense(1000, activation='sigmoid') ) #hidden layer 2   ## activation sigmoid\n",
        "NN.add( Dense(50, activation='sigmoid') ) #hidden layer 3\n",
        "NN.add( Dense(number_of_classes, activation='softmax') ) # output layer, activation softmax"
      ],
      "metadata": {
        "id": "gVVuiw_qfM-G"
      },
      "execution_count": null,
      "outputs": []
    },
    {
      "cell_type": "code",
      "source": [
        "NN.compile(optimizer='adam',\n",
        "              loss='categorical_crossentropy',\n",
        "              metrics=['accuracy'])"
      ],
      "metadata": {
        "id": "pdBCqrxSs9fI"
      },
      "execution_count": null,
      "outputs": []
    },
    {
      "cell_type": "code",
      "source": [
        "plot_model(NN, show_shapes=True, show_dtype=True, show_layer_names=True)"
      ],
      "metadata": {
        "id": "6GbmPoFcs-jn",
        "colab": {
          "base_uri": "https://localhost:8080/",
          "height": 686
        },
        "outputId": "91600264-8545-4593-d8a0-3b4f03f782e5"
      },
      "execution_count": null,
      "outputs": [
        {
          "output_type": "execute_result",
          "data": {
            "image/png": "[encoded data removed]",
            "text/plain": [
              "<IPython.core.display.Image object>"
            ]
          },
          "metadata": {},
          "execution_count": 34
        }
      ]
    },
    {
      "cell_type": "code",
      "source": [
        "# saving the best weights\n",
        "\n",
        "EPOCHS = 100\n",
        "checkpoint_filepath = '/content/drive/MyDrive/1. 428_project/model_checkpoint/tmp/checkpoint'\n",
        "model_checkpoint_callback = tf.keras.callbacks.ModelCheckpoint(\n",
        "    filepath=checkpoint_filepath,\n",
        "    save_weights_only=True,\n",
        "    monitor='val_accuracy',\n",
        "    mode='max',\n",
        "    save_best_only=True)\n",
        "\n",
        "NN.fit(X_train_org_flatten, Y_train_org_NN, validation_data=(X_test_flatten, Y_test_NN),  verbose=1, epochs=EPOCHS, callbacks=[model_checkpoint_callback])\n",
        "\n",
        "NN.load_weights(checkpoint_filepath)"
      ],
      "metadata": {
        "id": "ZLyM3swvopjj",
        "colab": {
          "base_uri": "https://localhost:8080/"
        },
        "outputId": "0cbf07c9-93e4-44c5-c1d4-9ac7ad904349"
      },
      "execution_count": null,
      "outputs": [
        {
          "output_type": "stream",
          "name": "stdout",
          "text": [
            "Epoch 1/100\n",
            "68/68 [==============================] - 10s 66ms/step - loss: 1.6295 - accuracy: 0.2320 - val_loss: 1.6833 - val_accuracy: 0.1961\n",
            "Epoch 2/100\n",
            "68/68 [==============================] - 1s 20ms/step - loss: 1.5862 - accuracy: 0.2367 - val_loss: 1.6597 - val_accuracy: 0.1961\n",
            "Epoch 3/100\n",
            "68/68 [==============================] - 1s 19ms/step - loss: 1.5841 - accuracy: 0.2176 - val_loss: 1.6452 - val_accuracy: 0.1961\n",
            "Epoch 4/100\n",
            "68/68 [==============================] - 1s 17ms/step - loss: 1.5834 - accuracy: 0.2348 - val_loss: 1.6444 - val_accuracy: 0.1961\n",
            "Epoch 5/100\n",
            "68/68 [==============================] - 1s 17ms/step - loss: 1.5824 - accuracy: 0.2441 - val_loss: 1.6296 - val_accuracy: 0.1961\n",
            "Epoch 6/100\n",
            "68/68 [==============================] - 4s 59ms/step - loss: 1.5793 - accuracy: 0.2348 - val_loss: 1.6255 - val_accuracy: 0.2902\n",
            "Epoch 7/100\n",
            "68/68 [==============================] - 1s 18ms/step - loss: 1.5720 - accuracy: 0.2696 - val_loss: 1.6111 - val_accuracy: 0.1961\n",
            "Epoch 8/100\n",
            "68/68 [==============================] - 1s 17ms/step - loss: 1.5607 - accuracy: 0.2868 - val_loss: 1.6168 - val_accuracy: 0.2902\n",
            "Epoch 9/100\n",
            "68/68 [==============================] - 4s 64ms/step - loss: 1.5410 - accuracy: 0.3142 - val_loss: 1.5739 - val_accuracy: 0.2941\n",
            "Epoch 10/100\n",
            "68/68 [==============================] - 6s 92ms/step - loss: 1.5099 - accuracy: 0.3392 - val_loss: 1.5437 - val_accuracy: 0.3451\n",
            "Epoch 11/100\n",
            "68/68 [==============================] - 9s 129ms/step - loss: 1.4646 - accuracy: 0.3763 - val_loss: 1.5548 - val_accuracy: 0.3529\n",
            "Epoch 12/100\n",
            "68/68 [==============================] - 1s 21ms/step - loss: 1.4624 - accuracy: 0.3684 - val_loss: 1.5207 - val_accuracy: 0.3059\n",
            "Epoch 13/100\n",
            "68/68 [==============================] - 5s 67ms/step - loss: 1.4601 - accuracy: 0.3494 - val_loss: 1.4893 - val_accuracy: 0.3569\n",
            "Epoch 14/100\n",
            "68/68 [==============================] - 1s 18ms/step - loss: 1.4080 - accuracy: 0.3810 - val_loss: 1.4617 - val_accuracy: 0.3137\n",
            "Epoch 15/100\n",
            "68/68 [==============================] - 1s 17ms/step - loss: 1.3817 - accuracy: 0.3912 - val_loss: 1.4496 - val_accuracy: 0.3569\n",
            "Epoch 16/100\n",
            "68/68 [==============================] - 1s 17ms/step - loss: 1.3779 - accuracy: 0.3930 - val_loss: 1.4392 - val_accuracy: 0.3098\n",
            "Epoch 17/100\n",
            "68/68 [==============================] - 1s 18ms/step - loss: 1.3783 - accuracy: 0.3842 - val_loss: 1.5764 - val_accuracy: 0.3216\n",
            "Epoch 18/100\n",
            "68/68 [==============================] - 1s 18ms/step - loss: 1.3737 - accuracy: 0.3852 - val_loss: 1.4621 - val_accuracy: 0.3373\n",
            "Epoch 19/100\n",
            "68/68 [==============================] - 2s 23ms/step - loss: 1.3638 - accuracy: 0.3944 - val_loss: 1.4660 - val_accuracy: 0.3412\n",
            "Epoch 20/100\n",
            "68/68 [==============================] - 2s 24ms/step - loss: 1.3496 - accuracy: 0.4079 - val_loss: 1.4682 - val_accuracy: 0.3137\n",
            "Epoch 21/100\n",
            "68/68 [==============================] - 2s 22ms/step - loss: 1.3395 - accuracy: 0.4028 - val_loss: 1.5380 - val_accuracy: 0.3255\n",
            "Epoch 22/100\n",
            "68/68 [==============================] - 1s 19ms/step - loss: 1.4155 - accuracy: 0.3610 - val_loss: 1.4569 - val_accuracy: 0.3255\n",
            "Epoch 23/100\n",
            "68/68 [==============================] - 1s 17ms/step - loss: 1.3395 - accuracy: 0.4065 - val_loss: 1.4479 - val_accuracy: 0.3569\n",
            "Epoch 24/100\n",
            "68/68 [==============================] - 1s 17ms/step - loss: 1.3977 - accuracy: 0.3671 - val_loss: 1.4725 - val_accuracy: 0.3098\n",
            "Epoch 25/100\n",
            "68/68 [==============================] - 1s 17ms/step - loss: 1.3665 - accuracy: 0.3958 - val_loss: 1.4486 - val_accuracy: 0.3294\n",
            "Epoch 26/100\n",
            "68/68 [==============================] - 1s 18ms/step - loss: 1.3375 - accuracy: 0.4070 - val_loss: 1.4389 - val_accuracy: 0.3373\n",
            "Epoch 27/100\n",
            "68/68 [==============================] - 1s 19ms/step - loss: 1.3572 - accuracy: 0.4046 - val_loss: 1.4471 - val_accuracy: 0.3333\n",
            "Epoch 28/100\n",
            "68/68 [==============================] - 1s 18ms/step - loss: 1.3425 - accuracy: 0.3972 - val_loss: 1.5069 - val_accuracy: 0.2863\n",
            "Epoch 29/100\n",
            "68/68 [==============================] - 1s 18ms/step - loss: 1.3704 - accuracy: 0.3768 - val_loss: 1.4626 - val_accuracy: 0.3412\n",
            "Epoch 30/100\n",
            "68/68 [==============================] - 1s 19ms/step - loss: 1.3303 - accuracy: 0.3972 - val_loss: 1.4562 - val_accuracy: 0.3333\n",
            "Epoch 31/100\n",
            "68/68 [==============================] - 1s 22ms/step - loss: 1.3170 - accuracy: 0.4037 - val_loss: 1.4555 - val_accuracy: 0.3451\n",
            "Epoch 32/100\n",
            "68/68 [==============================] - 1s 20ms/step - loss: 1.3262 - accuracy: 0.4019 - val_loss: 1.5579 - val_accuracy: 0.2627\n",
            "Epoch 33/100\n",
            "68/68 [==============================] - 1s 20ms/step - loss: 1.3348 - accuracy: 0.3986 - val_loss: 1.5020 - val_accuracy: 0.3451\n",
            "Epoch 34/100\n",
            "68/68 [==============================] - 1s 18ms/step - loss: 1.3491 - accuracy: 0.3935 - val_loss: 1.4473 - val_accuracy: 0.3294\n",
            "Epoch 35/100\n",
            "68/68 [==============================] - 5s 68ms/step - loss: 1.3168 - accuracy: 0.4116 - val_loss: 1.4606 - val_accuracy: 0.3608\n",
            "Epoch 36/100\n",
            "68/68 [==============================] - 1s 17ms/step - loss: 1.3439 - accuracy: 0.3930 - val_loss: 1.6463 - val_accuracy: 0.2196\n",
            "Epoch 37/100\n",
            "68/68 [==============================] - 1s 17ms/step - loss: 1.3301 - accuracy: 0.3963 - val_loss: 1.5030 - val_accuracy: 0.3216\n",
            "Epoch 38/100\n",
            "68/68 [==============================] - 1s 17ms/step - loss: 1.3081 - accuracy: 0.4209 - val_loss: 1.4548 - val_accuracy: 0.3412\n",
            "Epoch 39/100\n",
            "68/68 [==============================] - 1s 17ms/step - loss: 1.3371 - accuracy: 0.3935 - val_loss: 1.4621 - val_accuracy: 0.3333\n",
            "Epoch 40/100\n",
            "68/68 [==============================] - 1s 19ms/step - loss: 1.3052 - accuracy: 0.4167 - val_loss: 1.4480 - val_accuracy: 0.3294\n",
            "Epoch 41/100\n",
            "68/68 [==============================] - 1s 20ms/step - loss: 1.2967 - accuracy: 0.4172 - val_loss: 1.4779 - val_accuracy: 0.3216\n",
            "Epoch 42/100\n",
            "68/68 [==============================] - 1s 19ms/step - loss: 1.2977 - accuracy: 0.4148 - val_loss: 1.4806 - val_accuracy: 0.3137\n",
            "Epoch 43/100\n",
            "68/68 [==============================] - 5s 67ms/step - loss: 1.3200 - accuracy: 0.4079 - val_loss: 1.4857 - val_accuracy: 0.3686\n",
            "Epoch 44/100\n",
            "68/68 [==============================] - 1s 19ms/step - loss: 1.2892 - accuracy: 0.4292 - val_loss: 1.4631 - val_accuracy: 0.3529\n",
            "Epoch 45/100\n",
            "68/68 [==============================] - 1s 18ms/step - loss: 1.2889 - accuracy: 0.4209 - val_loss: 1.4386 - val_accuracy: 0.3412\n",
            "Epoch 46/100\n",
            "68/68 [==============================] - 1s 19ms/step - loss: 1.3129 - accuracy: 0.4116 - val_loss: 1.4440 - val_accuracy: 0.3412\n",
            "Epoch 47/100\n",
            "68/68 [==============================] - 1s 17ms/step - loss: 1.3124 - accuracy: 0.4009 - val_loss: 1.4479 - val_accuracy: 0.3294\n",
            "Epoch 48/100\n",
            "68/68 [==============================] - 1s 17ms/step - loss: 1.2839 - accuracy: 0.4102 - val_loss: 1.4665 - val_accuracy: 0.3333\n",
            "Epoch 49/100\n",
            "68/68 [==============================] - 1s 19ms/step - loss: 1.2928 - accuracy: 0.4144 - val_loss: 1.4405 - val_accuracy: 0.3294\n",
            "Epoch 50/100\n",
            "68/68 [==============================] - 1s 22ms/step - loss: 1.3200 - accuracy: 0.4079 - val_loss: 1.4732 - val_accuracy: 0.3608\n",
            "Epoch 51/100\n",
            "68/68 [==============================] - 1s 21ms/step - loss: 1.3159 - accuracy: 0.4000 - val_loss: 1.4448 - val_accuracy: 0.3137\n",
            "Epoch 52/100\n",
            "68/68 [==============================] - 5s 68ms/step - loss: 1.2975 - accuracy: 0.4292 - val_loss: 1.4628 - val_accuracy: 0.3961\n",
            "Epoch 53/100\n",
            "68/68 [==============================] - 1s 19ms/step - loss: 1.3240 - accuracy: 0.4218 - val_loss: 1.4890 - val_accuracy: 0.3216\n",
            "Epoch 54/100\n",
            "68/68 [==============================] - 1s 17ms/step - loss: 1.3082 - accuracy: 0.4093 - val_loss: 1.5297 - val_accuracy: 0.3098\n",
            "Epoch 55/100\n",
            "68/68 [==============================] - 1s 17ms/step - loss: 1.3068 - accuracy: 0.4093 - val_loss: 1.4923 - val_accuracy: 0.3098\n",
            "Epoch 56/100\n",
            "68/68 [==============================] - 1s 17ms/step - loss: 1.2948 - accuracy: 0.4144 - val_loss: 1.5398 - val_accuracy: 0.3137\n",
            "Epoch 57/100\n",
            "68/68 [==============================] - 1s 17ms/step - loss: 1.3063 - accuracy: 0.4130 - val_loss: 1.4807 - val_accuracy: 0.3569\n",
            "Epoch 58/100\n",
            "68/68 [==============================] - 1s 19ms/step - loss: 1.3436 - accuracy: 0.4019 - val_loss: 1.4803 - val_accuracy: 0.3294\n",
            "Epoch 59/100\n",
            "68/68 [==============================] - 1s 19ms/step - loss: 1.3582 - accuracy: 0.3875 - val_loss: 1.5670 - val_accuracy: 0.2784\n",
            "Epoch 60/100\n",
            "68/68 [==============================] - 1s 19ms/step - loss: 1.3012 - accuracy: 0.4042 - val_loss: 1.5095 - val_accuracy: 0.3882\n",
            "Epoch 61/100\n",
            "68/68 [==============================] - 2s 22ms/step - loss: 1.2773 - accuracy: 0.4316 - val_loss: 1.4687 - val_accuracy: 0.3569\n",
            "Epoch 62/100\n",
            "68/68 [==============================] - 1s 18ms/step - loss: 1.2802 - accuracy: 0.4320 - val_loss: 1.4520 - val_accuracy: 0.3451\n",
            "Epoch 63/100\n",
            "68/68 [==============================] - 1s 18ms/step - loss: 1.2882 - accuracy: 0.4079 - val_loss: 1.4402 - val_accuracy: 0.3843\n",
            "Epoch 64/100\n",
            "68/68 [==============================] - 1s 18ms/step - loss: 1.3002 - accuracy: 0.4260 - val_loss: 1.4837 - val_accuracy: 0.3059\n",
            "Epoch 65/100\n",
            "68/68 [==============================] - 1s 18ms/step - loss: 1.3131 - accuracy: 0.4176 - val_loss: 1.4624 - val_accuracy: 0.3608\n",
            "Epoch 66/100\n",
            "68/68 [==============================] - 1s 19ms/step - loss: 1.2719 - accuracy: 0.4464 - val_loss: 1.4738 - val_accuracy: 0.3608\n",
            "Epoch 67/100\n",
            "68/68 [==============================] - 1s 17ms/step - loss: 1.2731 - accuracy: 0.4367 - val_loss: 1.4599 - val_accuracy: 0.3529\n",
            "Epoch 68/100\n",
            "68/68 [==============================] - 1s 17ms/step - loss: 1.2550 - accuracy: 0.4251 - val_loss: 1.4686 - val_accuracy: 0.2902\n",
            "Epoch 69/100\n",
            "68/68 [==============================] - 1s 17ms/step - loss: 1.3574 - accuracy: 0.3833 - val_loss: 1.5984 - val_accuracy: 0.2706\n",
            "Epoch 70/100\n",
            "68/68 [==============================] - 1s 19ms/step - loss: 1.3305 - accuracy: 0.4111 - val_loss: 1.5501 - val_accuracy: 0.2941\n",
            "Epoch 71/100\n",
            "68/68 [==============================] - 1s 20ms/step - loss: 1.3088 - accuracy: 0.4167 - val_loss: 1.4510 - val_accuracy: 0.3412\n",
            "Epoch 72/100\n",
            "68/68 [==============================] - 1s 19ms/step - loss: 1.2820 - accuracy: 0.4209 - val_loss: 1.5320 - val_accuracy: 0.3451\n",
            "Epoch 73/100\n",
            "68/68 [==============================] - 1s 19ms/step - loss: 1.2781 - accuracy: 0.4028 - val_loss: 1.4767 - val_accuracy: 0.3137\n",
            "Epoch 74/100\n",
            "68/68 [==============================] - 1s 17ms/step - loss: 1.2810 - accuracy: 0.4158 - val_loss: 1.4669 - val_accuracy: 0.3255\n",
            "Epoch 75/100\n",
            "68/68 [==============================] - 1s 17ms/step - loss: 1.2804 - accuracy: 0.4144 - val_loss: 1.5312 - val_accuracy: 0.3020\n",
            "Epoch 76/100\n",
            "68/68 [==============================] - 1s 17ms/step - loss: 1.6042 - accuracy: 0.2459 - val_loss: 1.6577 - val_accuracy: 0.2157\n",
            "Epoch 77/100\n",
            "68/68 [==============================] - 1s 17ms/step - loss: 1.5855 - accuracy: 0.2367 - val_loss: 1.6428 - val_accuracy: 0.1961\n",
            "Epoch 78/100\n",
            "68/68 [==============================] - 1s 17ms/step - loss: 1.5911 - accuracy: 0.2246 - val_loss: 1.6494 - val_accuracy: 0.1961\n",
            "Epoch 79/100\n",
            "68/68 [==============================] - 1s 17ms/step - loss: 1.5384 - accuracy: 0.2979 - val_loss: 1.4899 - val_accuracy: 0.3216\n",
            "Epoch 80/100\n",
            "68/68 [==============================] - 1s 17ms/step - loss: 1.2936 - accuracy: 0.4251 - val_loss: 1.4713 - val_accuracy: 0.3216\n",
            "Epoch 81/100\n",
            "68/68 [==============================] - 1s 17ms/step - loss: 1.2905 - accuracy: 0.4343 - val_loss: 1.4847 - val_accuracy: 0.3176\n",
            "Epoch 82/100\n",
            "68/68 [==============================] - 1s 18ms/step - loss: 1.2858 - accuracy: 0.4241 - val_loss: 1.4809 - val_accuracy: 0.3804\n",
            "Epoch 83/100\n",
            "68/68 [==============================] - 1s 19ms/step - loss: 1.2557 - accuracy: 0.4469 - val_loss: 1.5108 - val_accuracy: 0.3882\n",
            "Epoch 84/100\n",
            "68/68 [==============================] - 1s 19ms/step - loss: 1.2581 - accuracy: 0.4418 - val_loss: 1.5753 - val_accuracy: 0.2667\n",
            "Epoch 85/100\n",
            "68/68 [==============================] - 1s 19ms/step - loss: 1.2896 - accuracy: 0.4139 - val_loss: 1.4915 - val_accuracy: 0.3529\n",
            "Epoch 86/100\n",
            "68/68 [==============================] - 1s 18ms/step - loss: 1.2800 - accuracy: 0.4237 - val_loss: 1.5090 - val_accuracy: 0.3176\n",
            "Epoch 87/100\n",
            "68/68 [==============================] - 1s 18ms/step - loss: 1.2688 - accuracy: 0.4148 - val_loss: 1.5022 - val_accuracy: 0.3176\n",
            "Epoch 88/100\n",
            "68/68 [==============================] - 1s 17ms/step - loss: 1.3419 - accuracy: 0.3972 - val_loss: 1.4560 - val_accuracy: 0.3608\n",
            "Epoch 89/100\n",
            "68/68 [==============================] - 1s 17ms/step - loss: 1.2609 - accuracy: 0.4316 - val_loss: 1.5202 - val_accuracy: 0.3216\n",
            "Epoch 90/100\n",
            "68/68 [==============================] - 1s 17ms/step - loss: 1.3032 - accuracy: 0.4084 - val_loss: 1.7479 - val_accuracy: 0.2039\n",
            "Epoch 91/100\n",
            "68/68 [==============================] - 1s 17ms/step - loss: 1.3077 - accuracy: 0.3977 - val_loss: 1.5597 - val_accuracy: 0.3176\n",
            "Epoch 92/100\n",
            "68/68 [==============================] - 1s 17ms/step - loss: 1.2540 - accuracy: 0.4260 - val_loss: 1.4570 - val_accuracy: 0.3569\n",
            "Epoch 93/100\n",
            "68/68 [==============================] - 1s 17ms/step - loss: 1.2455 - accuracy: 0.4626 - val_loss: 1.5109 - val_accuracy: 0.3412\n",
            "Epoch 94/100\n",
            "68/68 [==============================] - 1s 17ms/step - loss: 1.2631 - accuracy: 0.4079 - val_loss: 1.5256 - val_accuracy: 0.3373\n",
            "Epoch 95/100\n",
            "68/68 [==============================] - 1s 19ms/step - loss: 1.2800 - accuracy: 0.4102 - val_loss: 1.6280 - val_accuracy: 0.2824\n",
            "Epoch 96/100\n",
            "68/68 [==============================] - 1s 19ms/step - loss: 1.3493 - accuracy: 0.4065 - val_loss: 1.8096 - val_accuracy: 0.1961\n",
            "Epoch 97/100\n",
            "68/68 [==============================] - 1s 19ms/step - loss: 1.4955 - accuracy: 0.3021 - val_loss: 1.5000 - val_accuracy: 0.3882\n",
            "Epoch 98/100\n",
            "68/68 [==============================] - 1s 18ms/step - loss: 1.2474 - accuracy: 0.4538 - val_loss: 1.5328 - val_accuracy: 0.3294\n",
            "Epoch 99/100\n",
            "68/68 [==============================] - 4s 60ms/step - loss: 1.2395 - accuracy: 0.4529 - val_loss: 1.5419 - val_accuracy: 0.4078\n",
            "Epoch 100/100\n",
            "68/68 [==============================] - 1s 17ms/step - loss: 1.2644 - accuracy: 0.4255 - val_loss: 1.4836 - val_accuracy: 0.2902\n"
          ]
        },
        {
          "output_type": "execute_result",
          "data": {
            "text/plain": [
              "<tensorflow.python.checkpoint.checkpoint.CheckpointLoadStatus at 0x7f2e031d1990>"
            ]
          },
          "metadata": {},
          "execution_count": 35
        }
      ]
    },
    {
      "cell_type": "code",
      "source": [
        "def map_predictions_to_strings(predictions, label_list):\n",
        "    mapped_labels = [label_list[np.argmax(elem)] for elem in predictions]\n",
        "    return mapped_labels"
      ],
      "metadata": {
        "id": "AwrtGv7V_qGE"
      },
      "execution_count": null,
      "outputs": []
    },
    {
      "cell_type": "code",
      "source": [
        "labels"
      ],
      "metadata": {
        "colab": {
          "base_uri": "https://localhost:8080/"
        },
        "id": "nAIuLiYDyBNq",
        "outputId": "17fa8df2-ff6f-4988-ceed-ccfaef15900e"
      },
      "execution_count": null,
      "outputs": [
        {
          "output_type": "execute_result",
          "data": {
            "text/plain": [
              "array(['bear', 'boa-constrictor', 'bullfrog', 'golden-retriever',\n",
              "       'goldfish'], dtype='<U16')"
            ]
          },
          "metadata": {},
          "execution_count": 37
        }
      ]
    },
    {
      "cell_type": "code",
      "source": [
        "map_predictions_to_strings([[0.2, 0.07, 0.7, 0.0, 0.01],[0.8, 0.1, 0.0, 0.1, 0.01]], labels)"
      ],
      "metadata": {
        "colab": {
          "base_uri": "https://localhost:8080/"
        },
        "id": "ID4_dadPxcxL",
        "outputId": "ba343bd1-82a3-49f1-ead9-fa6428c4871a"
      },
      "execution_count": null,
      "outputs": [
        {
          "output_type": "execute_result",
          "data": {
            "text/plain": [
              "['bullfrog', 'bear']"
            ]
          },
          "metadata": {},
          "execution_count": 38
        }
      ]
    },
    {
      "cell_type": "code",
      "source": [
        "# Predictions\n",
        "Y_pred_train_org_NN = NN.predict(X_train_org_flatten)\n",
        "Y_pred_test_NN = NN.predict(X_test_flatten)\n",
        "\n",
        "# mapping back to original form\n",
        "Y_pred_train_org_mapped = map_predictions_to_strings(Y_pred_train_org_NN, labels)\n",
        "Y_pred_test_mapped = map_predictions_to_strings(Y_pred_test_NN, labels)\n",
        "\n",
        "\n",
        "# Evaluating on Train data\n",
        "train_eval_NN = evaluate_model(Y_train_org, Y_pred_train_org_mapped, labels)\n",
        "print(\"## Training Set Metrics in NN:\")\n",
        "print()\n",
        "print(f\"Accuracy: {train_eval_NN[0] * 100:.2f}%\\n\"\n",
        "      f\"Sensitivity: {train_eval_NN[1]}\\n\"\n",
        "      f\"Specificity: {train_eval_NN[2]}\\n\"\n",
        "      f\"PPV: {train_eval_NN[3]}\\n\"\n",
        "      f\"NPV: {train_eval_NN[4]}\\n\"\n",
        "      f\"Confusion Matrix:\\n{train_eval_NN[5]}\\n\"\n",
        "      f\"Classification Report:\\n{train_eval_NN[6]}\")\n",
        "\n",
        "print()\n",
        "print()\n",
        "\n",
        "# Evaluating on Test data\n",
        "test_eval_NN = evaluate_model(Y_test, Y_pred_test_mapped, labels)\n",
        "print(\"\\n## Test Set Metrics in NN:\")\n",
        "print()\n",
        "print(f\"Accuracy: {test_eval_NN[0] * 100:.2f}%\\n\"\n",
        "      f\"Sensitivity: {test_eval_NN[1]}\\n\"\n",
        "      f\"Specificity: {test_eval_NN[2]}\\n\"\n",
        "      f\"PPV: {test_eval_NN[3]}\\n\"\n",
        "      f\"NPV: {test_eval_NN[4]}\\n\"\n",
        "      f\"Confusion Matrix:\\n{test_eval_NN[5]}\\n\"\n",
        "      f\"Classification Report:\\n{test_eval_NN[6]}\")"
      ],
      "metadata": {
        "id": "Ig-kKTc6qFhM",
        "colab": {
          "base_uri": "https://localhost:8080/"
        },
        "outputId": "da0c79a4-a688-4c08-abad-cac7446b26c1"
      },
      "execution_count": null,
      "outputs": [
        {
          "output_type": "stream",
          "name": "stdout",
          "text": [
            "68/68 [==============================] - 0s 2ms/step\n",
            "8/8 [==============================] - 0s 3ms/step\n",
            "## Training Set Metrics in NN:\n",
            "\n",
            "Accuracy: 48.45%\n",
            "Sensitivity: 0.41622970297029704\n",
            "Specificity: 0.8655380390002747\n",
            "PPV: 0.32970118077844424\n",
            "NPV: 0.8725826766010776\n",
            "Confusion Matrix:\n",
            "[[346   0   0 158   1]\n",
            " [186   0   0 206   8]\n",
            " [153   0   0  93   4]\n",
            " [171   0   0 296  33]\n",
            " [ 42   0   0  56 402]]\n",
            "Classification Report:\n",
            "                  precision    recall  f1-score   support\n",
            "\n",
            "            bear       0.39      0.69      0.49       505\n",
            " boa-constrictor       0.00      0.00      0.00       400\n",
            "        bullfrog       0.00      0.00      0.00       250\n",
            "golden-retriever       0.37      0.59      0.45       500\n",
            "        goldfish       0.90      0.80      0.85       500\n",
            "\n",
            "        accuracy                           0.48      2155\n",
            "       macro avg       0.33      0.42      0.36      2155\n",
            "    weighted avg       0.38      0.48      0.42      2155\n",
            "\n",
            "\n",
            "\n",
            "\n",
            "## Test Set Metrics in NN:\n",
            "\n",
            "Accuracy: 40.78%\n",
            "Sensitivity: 0.40290909090909094\n",
            "Specificity: 0.8522439024390245\n",
            "PPV: 0.2685434840074016\n",
            "NPV: 0.8613352983299662\n",
            "Confusion Matrix:\n",
            "[[36  0  0 12  2]\n",
            " [20  0  0 22  8]\n",
            " [28  0  0 20  2]\n",
            " [12  0  0 32  6]\n",
            " [ 8  0  0 11 36]]\n",
            "Classification Report:\n",
            "                  precision    recall  f1-score   support\n",
            "\n",
            "            bear       0.35      0.72      0.47        50\n",
            " boa-constrictor       0.00      0.00      0.00        50\n",
            "        bullfrog       0.00      0.00      0.00        50\n",
            "golden-retriever       0.33      0.64      0.44        50\n",
            "        goldfish       0.67      0.65      0.66        55\n",
            "\n",
            "        accuracy                           0.41       255\n",
            "       macro avg       0.27      0.40      0.31       255\n",
            "    weighted avg       0.28      0.41      0.32       255\n",
            "\n"
          ]
        },
        {
          "output_type": "stream",
          "name": "stderr",
          "text": [
            "/usr/local/lib/python3.10/dist-packages/sklearn/metrics/_classification.py:1344: UndefinedMetricWarning: Precision and F-score are ill-defined and being set to 0.0 in labels with no predicted samples. Use `zero_division` parameter to control this behavior.\n",
            "  _warn_prf(average, modifier, msg_start, len(result))\n",
            "/usr/local/lib/python3.10/dist-packages/sklearn/metrics/_classification.py:1344: UndefinedMetricWarning: Precision and F-score are ill-defined and being set to 0.0 in labels with no predicted samples. Use `zero_division` parameter to control this behavior.\n",
            "  _warn_prf(average, modifier, msg_start, len(result))\n",
            "/usr/local/lib/python3.10/dist-packages/sklearn/metrics/_classification.py:1344: UndefinedMetricWarning: Precision and F-score are ill-defined and being set to 0.0 in labels with no predicted samples. Use `zero_division` parameter to control this behavior.\n",
            "  _warn_prf(average, modifier, msg_start, len(result))\n",
            "/usr/local/lib/python3.10/dist-packages/sklearn/metrics/_classification.py:1344: UndefinedMetricWarning: Precision and F-score are ill-defined and being set to 0.0 in labels with no predicted samples. Use `zero_division` parameter to control this behavior.\n",
            "  _warn_prf(average, modifier, msg_start, len(result))\n",
            "/usr/local/lib/python3.10/dist-packages/sklearn/metrics/_classification.py:1344: UndefinedMetricWarning: Precision and F-score are ill-defined and being set to 0.0 in labels with no predicted samples. Use `zero_division` parameter to control this behavior.\n",
            "  _warn_prf(average, modifier, msg_start, len(result))\n",
            "/usr/local/lib/python3.10/dist-packages/sklearn/metrics/_classification.py:1344: UndefinedMetricWarning: Precision and F-score are ill-defined and being set to 0.0 in labels with no predicted samples. Use `zero_division` parameter to control this behavior.\n",
            "  _warn_prf(average, modifier, msg_start, len(result))\n"
          ]
        }
      ]
    },
    {
      "cell_type": "code",
      "source": [
        "Y_pred_test_NN[:5]"
      ],
      "metadata": {
        "colab": {
          "base_uri": "https://localhost:8080/"
        },
        "id": "ESInJvfywLkZ",
        "outputId": "75d9f1d8-65d3-4b37-ba9e-8a71ab063ac6"
      },
      "execution_count": null,
      "outputs": [
        {
          "output_type": "execute_result",
          "data": {
            "text/plain": [
              "array([[0.17233506, 0.18839961, 0.09472828, 0.31461126, 0.22992586],\n",
              "       [0.00169174, 0.00427311, 0.00150016, 0.02529845, 0.9672365 ],\n",
              "       [0.26438284, 0.23316713, 0.13011374, 0.28801095, 0.0843253 ],\n",
              "       [0.29123023, 0.23981829, 0.13875133, 0.27036625, 0.05983391],\n",
              "       [0.29122996, 0.23981825, 0.13875122, 0.2703664 , 0.05983413]],\n",
              "      dtype=float32)"
            ]
          },
          "metadata": {},
          "execution_count": 40
        }
      ]
    },
    {
      "cell_type": "code",
      "source": [
        "Y_pred_test_mapped[:5]"
      ],
      "metadata": {
        "colab": {
          "base_uri": "https://localhost:8080/"
        },
        "id": "0lQnxvl-wN5g",
        "outputId": "572c961f-7ad5-4937-cea4-f889b8aabb94"
      },
      "execution_count": null,
      "outputs": [
        {
          "output_type": "execute_result",
          "data": {
            "text/plain": [
              "['golden-retriever', 'goldfish', 'golden-retriever', 'bear', 'bear']"
            ]
          },
          "metadata": {},
          "execution_count": 41
        }
      ]
    },
    {
      "cell_type": "markdown",
      "source": [
        "## Comparison between Logistic Regression & Neural Network"
      ],
      "metadata": {
        "id": "Vf2bWCXJ1DIF"
      }
    },
    {
      "cell_type": "code",
      "source": [
        "def compare_models_performance(lr_metrics, nn_metrics):\n",
        "    metrics_labels = ['Accuracy', 'Sensitivity', 'Specificity', 'PPV', 'NPV']\n",
        "    num_metrics = len(metrics_labels)\n",
        "\n",
        "    lr_values = np.array(lr_metrics).T\n",
        "    nn_values = np.array(nn_metrics).T\n",
        "\n",
        "    # Set up figure and axis\n",
        "    fig, ax = plt.subplots(figsize=(10, 6))\n",
        "\n",
        "    # Bar width\n",
        "    bar_width = 0.35\n",
        "\n",
        "    # Set positions for bar groups\n",
        "    index = np.arange(num_metrics)\n",
        "\n",
        "    # Plot bars for Linear Regression\n",
        "    bar1 = ax.bar(index, lr_values[0], bar_width, label='Linear Regression', color='b')\n",
        "\n",
        "    # Plot bars for Neural Network\n",
        "    bar2 = ax.bar(index + bar_width, nn_values[0], bar_width, label='Neural Network', color='r')\n",
        "\n",
        "\n",
        "    ax.set_xlabel('Metrics')\n",
        "    ax.set_ylabel('Values')\n",
        "    ax.set_title('Comparison of Model Performance Metrics')\n",
        "    ax.set_xticks(index + bar_width / 2)\n",
        "    ax.set_xticklabels(metrics_labels)\n",
        "    ax.legend()\n",
        "\n",
        "\n",
        "    plt.show()\n",
        "\n",
        "compare_models_performance(test_eval_LR[:5], test_eval_NN[:5])\n"
      ],
      "metadata": {
        "id": "Ade7yA6k1mQi",
        "colab": {
          "base_uri": "https://localhost:8080/",
          "height": 564
        },
        "outputId": "fade9f18-29b4-47d9-fa4e-e53b09f45237"
      },
      "execution_count": null,
      "outputs": [
        {
          "output_type": "display_data",
          "data": {
            "text/plain": [
              "<Figure size 1000x600 with 1 Axes>"
            ],
            "image/png": "[encoded data removed]"
          },
          "metadata": {}
        }
      ]
    }
  ]
}